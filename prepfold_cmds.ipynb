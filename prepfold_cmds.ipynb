{
 "cells": [
  {
   "cell_type": "code",
   "execution_count": null,
   "metadata": {},
   "outputs": [],
   "source": [
    "#sample prepfold command:\n",
    "#\n",
    "#prepfold -noxwin -dm X -topo -p X -pd X /scratch/nas_spiders/okelly/J0212/DM25/051622/subbands/J0212_DMX.00.sub?? \n",
    "#-o /scratch/nas_spiders/okelly/J0212/DM25/051622/prepfold/J0212_DMX\n",
    "#Be careful with subband values. They are rounded by the subbands variable but make sure they're correct!\n",
    "\n",
    "\n",
    "import re\n",
    "filename = \"cands_J0212.txt\"\n",
    "#pattern = name or term to search for, in this case J0212 is used in all candidate names so to list all of them I used this\n",
    "pattern = re.compile(r\"J0212\", re.IGNORECASE)\n",
    "with open(filename, \"rt\") as myfile:\n",
    "    for line in myfile:\n",
    "        if pattern.search(line) != None:\n",
    "            P = (line)\n",
    "            #period = index of period values then /1000 to convert to seconds\n",
    "            period = float(P[123:131]) / 1000\n",
    "            #T_obs = length of dataset\n",
    "            T_obs = 7208.4357119999995\n",
    "            z = float(P[147:155])\n",
    "            Pdot = (z/(T_obs**2)) * (period**2)\n",
    "            subbands = round(float(P[70:74]))\n",
    "            #print(subbands)\n",
    "            print('prepfold -noxwin -dm ' + P[70:75] + ' -topo -p ' + str(period) + ' -pd ' + str(-Pdot) + ' /scratch/nas_spiders/okelly/J0212/DM25/J0212_data/subbands/J0212_DM' + str(subbands) + '.00.sub?? -o /scratch/nas_spiders/okelly/J0212/DM25/J0212_data/prepfold/J0212_DM' + P[70:75] + '\\n')\n"
   ]
  }
 ],
 "metadata": {
  "kernelspec": {
   "display_name": "Python 3",
   "language": "python",
   "name": "python3"
  },
  "language_info": {
   "codemirror_mode": {
    "name": "ipython",
    "version": 3
   },
   "file_extension": ".py",
   "mimetype": "text/x-python",
   "name": "python",
   "nbconvert_exporter": "python",
   "pygments_lexer": "ipython3",
   "version": "3.8.5"
  }
 },
 "nbformat": 4,
 "nbformat_minor": 4
}
