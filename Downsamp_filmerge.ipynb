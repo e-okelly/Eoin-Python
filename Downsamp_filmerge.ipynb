{
 "cells": [
  {
   "cell_type": "code",
   "execution_count": 1,
   "metadata": {},
   "outputs": [
    {
     "name": "stdout",
     "output_type": "stream",
     "text": [
      "decimate -t 4 -c 1 -n 32 compute-0-4/051622_J0212+5321.fil > compute-0-4_051622_downsamp.fil\n",
      "decimate -t 4 -c 1 -n 32 compute-0-5/051622_J0212+5321.fil > compute-0-5_051622_downsamp.fil\n",
      "decimate -t 4 -c 1 -n 32 compute-0-6/051622_J0212+5321.fil > compute-0-6_051622_downsamp.fil\n",
      "decimate -t 4 -c 1 -n 32 compute-0-7/051622_J0212+5321.fil > compute-0-7_051622_downsamp.fil\n",
      "decimate -t 4 -c 1 -n 32 compute-0-8/051622_J0212+5321.fil > compute-0-8_051622_downsamp.fil\n",
      "decimate -t 4 -c 1 -n 32 compute-0-9/051622_J0212+5321.fil > compute-0-9_051622_downsamp.fil\n",
      "decimate -t 4 -c 1 -n 32 compute-0-10/051622_J0212+5321.fil > compute-0-10_051622_downsamp.fil\n",
      "decimate -t 4 -c 1 -n 32 compute-0-11/051622_J0212+5321.fil > compute-0-11_051622_downsamp.fil\n",
      "decimate -t 4 -c 1 -n 32 compute-0-12/051622_J0212+5321.fil > compute-0-12_051622_downsamp.fil\n",
      "decimate -t 4 -c 1 -n 32 compute-0-13/051622_J0212+5321.fil > compute-0-13_051622_downsamp.fil\n",
      "decimate -t 4 -c 1 -n 32 compute-0-14/051622_J0212+5321.fil > compute-0-14_051622_downsamp.fil\n",
      "decimate -t 4 -c 1 -n 32 compute-0-15/051622_J0212+5321.fil > compute-0-15_051622_downsamp.fil\n",
      "decimate -t 4 -c 1 -n 32 compute-0-16/051622_J0212+5321.fil > compute-0-16_051622_downsamp.fil\n",
      "decimate -t 4 -c 1 -n 32 compute-0-17/051622_J0212+5321.fil > compute-0-17_051622_downsamp.fil\n",
      "decimate -t 4 -c 1 -n 32 compute-0-18/051622_J0212+5321.fil > compute-0-18_051622_downsamp.fil\n",
      "decimate -t 4 -c 1 -n 32 compute-0-19/051622_J0212+5321.fil > compute-0-19_051622_downsamp.fil\n",
      "decimate -t 4 -c 1 -n 32 compute-0-20/051622_J0212+5321.fil > compute-0-20_051622_downsamp.fil\n",
      "decimate -t 4 -c 1 -n 32 compute-0-21/051622_J0212+5321.fil > compute-0-21_051622_downsamp.fil\n",
      "decimate -t 4 -c 1 -n 32 compute-0-22/051622_J0212+5321.fil > compute-0-22_051622_downsamp.fil\n",
      "decimate -t 4 -c 1 -n 32 compute-0-23/051622_J0212+5321.fil > compute-0-23_051622_downsamp.fil\n",
      "decimate -t 4 -c 1 -n 32 compute-0-24/051622_J0212+5321.fil > compute-0-24_051622_downsamp.fil\n",
      "decimate -t 4 -c 1 -n 32 compute-0-25/051622_J0212+5321.fil > compute-0-25_051622_downsamp.fil\n",
      "decimate -t 4 -c 1 -n 32 compute-0-26/051622_J0212+5321.fil > compute-0-26_051622_downsamp.fil\n",
      "decimate -t 4 -c 1 -n 32 compute-0-27/051622_J0212+5321.fil > compute-0-27_051622_downsamp.fil\n"
     ]
    }
   ],
   "source": [
    "import glob\n",
    "import os\n",
    "\n",
    "# scratch/nas_spiders/bretonr/J0212+5321/compute-0-4 to 27\n",
    "\n",
    "#compute-0-4 to 27\n",
    "#041248_J0212+5321\n",
    "#044503_J0212+5321\n",
    "#051622_J0212+5321\n",
    "#054741_J0212+5321\n",
    "\n",
    "#eg: compute-0-4/041248_J0212+5321/2016-09-12-04:13:52_0000000000000000.000000.dada\n",
    "#    compute-0-4/041248_J0212+5321/2016-09-12-04:13:52_0000119040000000.000000.dada\n",
    "\n",
    "\n",
    "times = ['051622_J0212+5321']\n",
    "\n",
    "#path1_all = glob.glob('compute-0-*')\n",
    "#for path1 in path1_all:\n",
    "#    path2_all = glob.glob(path1+'/*')\n",
    "#    for path2 in path2_all:\n",
    "#        flns = glob.glob(path2+'/*.dada')\n",
    "#        for fln in flns:\n",
    "#            system('digifil filename.dada -D 25 -F 16:D -t 4 -d 1 -threads 2 -b 8 -o outputfilename.fil')\n",
    "\n",
    "command = 'decimate -t 4 -c 1 -n 32 '\n",
    "\n",
    "for compute_id in range(4,28):\n",
    "    path1 = 'compute-0-' + str(compute_id)\n",
    "    outfilepath = ' > compute-0-' + str(compute_id) + '_051622_downsamp.fil'\n",
    "    for time in times:\n",
    "        path2 = path1 + '/' + time + '.fil'\n",
    "        print(command + path2 + outfilepath)\n",
    "        #os.system(command + path2 + outfilepath)\n"
   ]
  },
  {
   "cell_type": "code",
   "execution_count": null,
   "metadata": {},
   "outputs": [],
   "source": []
  }
 ],
 "metadata": {
  "kernelspec": {
   "display_name": "Python 3",
   "language": "python",
   "name": "python3"
  },
  "language_info": {
   "codemirror_mode": {
    "name": "ipython",
    "version": 3
   },
   "file_extension": ".py",
   "mimetype": "text/x-python",
   "name": "python",
   "nbconvert_exporter": "python",
   "pygments_lexer": "ipython3",
   "version": "3.8.5"
  }
 },
 "nbformat": 4,
 "nbformat_minor": 4
}
