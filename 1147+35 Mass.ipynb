{
 "cells": [
  {
   "cell_type": "code",
   "execution_count": 2,
   "metadata": {},
   "outputs": [
    {
     "name": "stdout",
     "output_type": "stream",
     "text": [
      "0.2552674741576741 M_sun\n"
     ]
    }
   ],
   "source": [
    "#This script estimates the mass of the star system J1147+3513\n",
    "\n",
    "#Approximate system as two equal sized spherical stars of the same temperature, separated by d and touching in the middle, then L = 2 pi sigma d^2 T^4 \n",
    "#(if viewed side on when able to see both stars, because luminosity is twice as large because it is a binary system then d=r/2)\n",
    "#distance between stars is roughly sqrt(2) times larger than Gaia figure (r)\n",
    "\n",
    "import numpy as np\n",
    "\n",
    "r = 6.545596e8\n",
    "\n",
    "r_2 = np.sqrt(2) * r\n",
    "\n",
    "G = 6.672e-11\n",
    "\n",
    "T = 3.040416e4\n",
    "\n",
    "S = 1.989e30\n",
    "\n",
    "M = ((4 * (np.pi**2)) * (r_2**3)) / (G * (T**2))\n",
    "\n",
    "print(M/S, 'M_sun')\n",
    "\n",
    "#stellar radius = sqrt(2)/2 so the volume filled by both stars is 2 x (sqrt(2)/2)^3 = 0.7 solar volume\n",
    "#Mass = 0.255 or ~0.3 the stars have roughly half the density of the Sun. \n"
   ]
  },
  {
   "cell_type": "code",
   "execution_count": 2,
   "metadata": {},
   "outputs": [
    {
     "name": "stdout",
     "output_type": "stream",
     "text": [
      "0.1823909036898775 M_sun\n"
     ]
    }
   ],
   "source": [
    "#This is another estimate of mass which assumes a lot of things - circular orbit, eccentricity of 0, inclination of 90\n",
    "\n",
    "import numpy as np\n",
    "\n",
    "r = 6.545596e8\n",
    "\n",
    "r_2 = np.sqrt(2) * r\n",
    "\n",
    "G = 6.672e-11\n",
    "\n",
    "P = 3.040416e4\n",
    "\n",
    "S = 1.989e30\n",
    "\n",
    "i = 90\n",
    "\n",
    "#orbital frequency, w, \n",
    "\n",
    "w = (2 * np.pi) / P\n",
    "\n",
    "#peak radial velocity, K, assuming a (separation of the stars or semi-major axis) is sqrt(2)*r (from Gaia), this assumes that the stars are equal size and equal spaced,\n",
    "\n",
    "K = w * r_2 * (np.sin(i))\n",
    "\n",
    "f = (P * (K**3)) / ((2 * np.pi) * G)\n",
    "\n",
    "print(f/S, 'M_sun')\n",
    "\n",
    "#this estimate assumes so much that the estimate above is probably more accurate.\n"
   ]
  },
  {
   "cell_type": "code",
   "execution_count": 1,
   "metadata": {},
   "outputs": [
    {
     "name": "stdout",
     "output_type": "stream",
     "text": [
      "0.7220054479730126 M_sun\n"
     ]
    }
   ],
   "source": [
    "#The same as the first estimate but assumes that the value for r (from gaia) is for only 1 of the components.\n",
    "#Therefore for a binary system that is composed of 2 equal sized stars that are touching it is twice the value of r\n",
    "\n",
    "import numpy as np\n",
    "\n",
    "r = 6.545596e8\n",
    "\n",
    "r_2 = r * 2\n",
    "\n",
    "G = 6.672e-11\n",
    "\n",
    "T = 3.040416e4\n",
    "\n",
    "S = 1.989e30\n",
    "\n",
    "M = ((4 * (np.pi**2)) * (r_2**3)) / (G * (T**2))\n",
    "\n",
    "print(M/S, 'M_sun')\n",
    "\n",
    "#This estimates gives a value closer to what would be expected, although the uncertainty is probably quite high. "
   ]
  },
  {
   "cell_type": "code",
   "execution_count": 4,
   "metadata": {},
   "outputs": [
    {
     "name": "stdout",
     "output_type": "stream",
     "text": [
      "0.8425731861221041 M_sun\n"
     ]
    }
   ],
   "source": [
    "#Final estimate uses luminosity estimate\n",
    "#Estimated as L ~ M^4 from this source: https://courses.lumenlearning.com/astronomy/chapter/measuring-stellar-masses/\n",
    "#Therefore M ~ L^0.25 or 4sqrt(L)\n",
    "\n",
    "L = 0.504\n",
    "\n",
    "M = L**0.25\n",
    "\n",
    "print(M, 'M_sun')"
   ]
  },
  {
   "cell_type": "code",
   "execution_count": 8,
   "metadata": {},
   "outputs": [
    {
     "name": "stdout",
     "output_type": "stream",
     "text": [
      "0.9844560060095434\n"
     ]
    }
   ],
   "source": [
    "#Estimate the luminosity using L = 2 pi sigma d^2 T^4\n",
    "\n",
    "import numpy as np\n",
    "\n",
    "sigma = 5.670374419184429453e-8\n",
    "\n",
    "r = 6.545596e8\n",
    "\n",
    "r_2 = r * 2\n",
    "\n",
    "T = 5023.50\n",
    "\n",
    "S_lum = 3.828e26\n",
    "\n",
    "L = ((2 * np.pi) * sigma * (r_2**2) * (T**4))\n",
    "\n",
    "print(S_lum/L)"
   ]
  },
  {
   "cell_type": "code",
   "execution_count": null,
   "metadata": {},
   "outputs": [],
   "source": []
  }
 ],
 "metadata": {
  "kernelspec": {
   "display_name": "Python 3",
   "language": "python",
   "name": "python3"
  },
  "language_info": {
   "codemirror_mode": {
    "name": "ipython",
    "version": 3
   },
   "file_extension": ".py",
   "mimetype": "text/x-python",
   "name": "python",
   "nbconvert_exporter": "python",
   "pygments_lexer": "ipython3",
   "version": "3.8.5"
  }
 },
 "nbformat": 4,
 "nbformat_minor": 4
}
