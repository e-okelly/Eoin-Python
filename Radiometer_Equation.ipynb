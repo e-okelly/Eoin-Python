{
 "cells": [
  {
   "cell_type": "code",
   "execution_count": 6,
   "metadata": {},
   "outputs": [
    {
     "name": "stdout",
     "output_type": "stream",
     "text": [
      "SN_min_raw =  10.335211342072846\n",
      "SN_min_qrter =  10.361689172813458\n",
      "SN_min_full_data =  10.615539500379182\n"
     ]
    }
   ],
   "source": [
    "#Estimating the S/N of the Lovell J0212 dataset - 1.4 GHz ~2 hour observation\n",
    "\n",
    "import numpy as np\n",
    "\n",
    "n_samples_raw = 465354752\n",
    "n_samples_qrter = 536870912\n",
    "n_samples_full_data = 2147483648\n",
    "\n",
    "nDM = 2425\n",
    "nACC = 300\n",
    "\n",
    "n_trials_raw = n_samples_raw * nDM * 0.5849625007 * nACC\n",
    "\n",
    "n_trials_qrter = n_samples_qrter * nDM * 0.5849625007 * nACC\n",
    "\n",
    "n_trials_full_data = n_samples_full_data * nDM * 0.5849625007 * nACC\n",
    "\n",
    "SN_min_raw = (np.sqrt(np.log(n_trials_raw)) - 0.88) / 0.47\n",
    "\n",
    "SN_min_qrter = (np.sqrt(np.log(n_trials_qrter)) - 0.88) / 0.47\n",
    "\n",
    "SN_min_full_data = (np.sqrt(np.log(n_trials_full_data)) - 0.88) / 0.47\n",
    "\n",
    "print('SN_min_raw = ', SN_min_raw)\n",
    "\n",
    "print('SN_min_qrter = ', SN_min_qrter)\n",
    "      \n",
    "print('SN_min_full_data = ', SN_min_full_data)"
   ]
  },
  {
   "cell_type": "code",
   "execution_count": 4,
   "metadata": {},
   "outputs": [
    {
     "name": "stdout",
     "output_type": "stream",
     "text": [
      "S_min_raw = 0.19776413467829632 mJy\n",
      "S_min_qrter = 0.1982707876253202 mJy\n",
      "S_min_full_data = 0.1032218882995904 mJy\n"
     ]
    }
   ],
   "source": [
    "import numpy as np\n",
    "\n",
    "# Sensitivity/flux (Smin) estimate for the Lovell J0212 dataset - 1.4 GHz ~2 hour observation\n",
    "\n",
    "SN_min_raw =  10.335211342072846\n",
    "SN_min_qrter =  10.361689172813458\n",
    "SN_min_full_data =  10.615539500379182\n",
    "\n",
    "n = 2\n",
    "bandwidth = 384\n",
    "t_int_1_quarter = 1861.4190079999998\n",
    "t_int_whole_data = 7208.4357119999995  \n",
    "T_sys = 25\n",
    "T_sky = 43.63602258415123\n",
    "G = 1\n",
    "W = 0.0001\n",
    "P = 0.001\n",
    "\n",
    "S_min_raw = (((SN_min_raw) * (T_sys + T_sky)) / (G * np.sqrt(2 * bandwidth * t_int_1_quarter))) * (np.sqrt(W / (P - W)))\n",
    "\n",
    "S_min_qrter = (((SN_min_qrter) * (T_sys + T_sky)) / (G * np.sqrt(2 * bandwidth * t_int_1_quarter))) * (np.sqrt(W / (P - W)))\n",
    "\n",
    "S_min_full_data = (((SN_min_full_data) * (T_sys + T_sky)) / (G * np.sqrt(2 * bandwidth * t_int_whole_data))) * (np.sqrt(W / (P - W)))\n",
    "\n",
    "print('S_min_raw =' , S_min_raw , 'mJy')\n",
    "print('S_min_qrter =' , S_min_qrter , 'mJy')\n",
    "print('S_min_full_data =' , S_min_full_data , 'mJy')"
   ]
  },
  {
   "cell_type": "code",
   "execution_count": null,
   "metadata": {},
   "outputs": [],
   "source": []
  }
 ],
 "metadata": {
  "kernelspec": {
   "display_name": "Python 3",
   "language": "python",
   "name": "python3"
  },
  "language_info": {
   "codemirror_mode": {
    "name": "ipython",
    "version": 3
   },
   "file_extension": ".py",
   "mimetype": "text/x-python",
   "name": "python",
   "nbconvert_exporter": "python",
   "pygments_lexer": "ipython3",
   "version": "3.8.5"
  }
 },
 "nbformat": 4,
 "nbformat_minor": 4
}
