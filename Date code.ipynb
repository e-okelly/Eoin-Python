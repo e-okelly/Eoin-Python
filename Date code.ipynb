{
 "cells": [
  {
   "cell_type": "code",
   "execution_count": 13,
   "metadata": {},
   "outputs": [
    {
     "name": "stdout",
     "output_type": "stream",
     "text": [
      "Tue Apr 16\n"
     ]
    }
   ],
   "source": [
    "import numpy as np\n",
    "\n",
    "months = np.array(['Jan','Feb','Mar','Apr','May','Jun','Jul','Aug','Sep',\\\n",
    "                   'Oct','Nov','Dec'])\n",
    "\n",
    "ndays = np.array(range(1,32))\n",
    "\n",
    "days=np.array(['Mon','Tue','Wed','Thu','Fri','Sat','Sun'])\n",
    "\n",
    "print(days[1], months[3], ndays[15])\n"
   ]
  },
  {
   "cell_type": "code",
   "execution_count": 1,
   "metadata": {},
   "outputs": [
    {
     "name": "stdout",
     "output_type": "stream",
     "text": [
      "2019-04-16\n"
     ]
    }
   ],
   "source": [
    "from datetime import date\n",
    "import calendar\n",
    "\n",
    "my_date = date.today()\n",
    "\n",
    "calendar.day_name[my_date.weekday()]\n",
    "\n",
    "print(my_date)"
   ]
  }
 ],
 "metadata": {
  "kernelspec": {
   "display_name": "Python 3",
   "language": "python",
   "name": "python3"
  },
  "language_info": {
   "codemirror_mode": {
    "name": "ipython",
    "version": 3
   },
   "file_extension": ".py",
   "mimetype": "text/x-python",
   "name": "python",
   "nbconvert_exporter": "python",
   "pygments_lexer": "ipython3",
   "version": "3.6.5"
  }
 },
 "nbformat": 4,
 "nbformat_minor": 2
}
